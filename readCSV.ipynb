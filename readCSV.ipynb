{
 "cells": [
  {
   "cell_type": "code",
   "execution_count": 1,
   "metadata": {},
   "outputs": [],
   "source": [
    "import pandas as pd"
   ]
  },
  {
   "cell_type": "markdown",
   "source": [
    "COURSES CSV"
   ],
   "metadata": {
    "collapsed": false
   }
  },
  {
   "cell_type": "code",
   "execution_count": null,
   "outputs": [],
   "source": [
    "filepath1 = \"C:\\\\Users\\\\ej2595ht\\\\Desktop\\\\textbook_data\\\\BNCollegeCourses_2022-02-05.csv\"\n",
    "filepath2 = \"C:\\\\Users\\\\ej2595ht\\\\Desktop\\\\textbook_data\\\\BNTextbook_2022-02-05.csv\""
   ],
   "metadata": {
    "collapsed": false
   }
  },
  {
   "cell_type": "code",
   "execution_count": null,
   "outputs": [],
   "source": [
    "df1 = pd.read_csv(filepath1, encoding=\"utf-8\", low_memory=False)"
   ],
   "metadata": {
    "collapsed": false
   }
  },
  {
   "cell_type": "code",
   "execution_count": null,
   "outputs": [],
   "source": [
    "df1.department_id.value_counts()"
   ],
   "metadata": {
    "collapsed": false
   }
  },
  {
   "cell_type": "code",
   "execution_count": null,
   "outputs": [],
   "source": [
    "df1 = df1.drop_duplicates(keep=\"first\")"
   ],
   "metadata": {
    "collapsed": false
   }
  },
  {
   "cell_type": "code",
   "execution_count": null,
   "outputs": [],
   "source": [
    "df1"
   ],
   "metadata": {
    "collapsed": false
   }
  },
  {
   "cell_type": "code",
   "execution_count": null,
   "outputs": [],
   "source": [
    "df1 = df1[ [\"university\", \"campus_id\", \"department\", \"department_id\", \"course\", \"section\", \"term\"]  ] "
   ],
   "metadata": {
    "collapsed": false
   }
  },
  {
   "cell_type": "code",
   "execution_count": null,
   "outputs": [],
   "source": [
    "df1"
   ],
   "metadata": {
    "collapsed": false
   }
  },
  {
   "cell_type": "code",
   "execution_count": null,
   "outputs": [],
   "source": [
    "df1 = df1.loc[ (df1[\"term\"]==\"SPRING 2022\") , :]"
   ],
   "metadata": {
    "collapsed": false
   }
  },
  {
   "cell_type": "code",
   "execution_count": null,
   "outputs": [],
   "source": [
    "df1"
   ],
   "metadata": {
    "collapsed": false
   }
  },
  {
   "cell_type": "code",
   "execution_count": null,
   "outputs": [],
   "source": [
    "df1 = df1.dropna()"
   ],
   "metadata": {
    "collapsed": false
   }
  },
  {
   "cell_type": "code",
   "execution_count": null,
   "outputs": [],
   "source": [
    "df1"
   ],
   "metadata": {
    "collapsed": false
   }
  },
  {
   "cell_type": "code",
   "execution_count": null,
   "outputs": [],
   "source": [
    "df1[\"university\"] = df1[\"university\"].str.upper()"
   ],
   "metadata": {
    "collapsed": false
   }
  },
  {
   "cell_type": "code",
   "execution_count": null,
   "outputs": [],
   "source": [
    "df1"
   ],
   "metadata": {
    "collapsed": false
   }
  },
  {
   "cell_type": "code",
   "execution_count": null,
   "outputs": [],
   "source": [
    "df1.info()"
   ],
   "metadata": {
    "collapsed": false
   }
  },
  {
   "cell_type": "code",
   "execution_count": null,
   "outputs": [],
   "source": [
    "df1[\"university\"].value_counts().to_frame()"
   ],
   "metadata": {
    "collapsed": false
   }
  },
  {
   "cell_type": "code",
   "execution_count": null,
   "outputs": [],
   "source": [
    "df1[\"department\"].value_counts().to_frame()"
   ],
   "metadata": {
    "collapsed": false
   }
  },
  {
   "cell_type": "code",
   "execution_count": null,
   "outputs": [],
   "source": [
    "df1[\"course\"].value_counts().to_frame()"
   ],
   "metadata": {
    "collapsed": false
   }
  },
  {
   "cell_type": "code",
   "execution_count": null,
   "outputs": [],
   "source": [
    "df1[\"section\"].value_counts().to_frame()"
   ],
   "metadata": {
    "collapsed": false
   }
  },
  {
   "cell_type": "code",
   "execution_count": null,
   "outputs": [],
   "source": [
    "df1[\"term\"].value_counts().to_frame()"
   ],
   "metadata": {
    "collapsed": false
   }
  },
  {
   "cell_type": "code",
   "execution_count": null,
   "outputs": [],
   "source": [
    "df1.to_csv(\"courses_spr2022_validated.csv\", index=False)"
   ],
   "metadata": {
    "collapsed": false
   }
  },
  {
   "cell_type": "markdown",
   "source": [
    "TEXTBOOKS CSV"
   ],
   "metadata": {
    "collapsed": false
   }
  },
  {
   "cell_type": "code",
   "execution_count": null,
   "outputs": [],
   "source": [
    "df2 = pd.read_csv(filepath2, encoding=\"utf-8\", low_memory=False)"
   ],
   "metadata": {
    "collapsed": false
   }
  },
  {
   "cell_type": "code",
   "execution_count": null,
   "outputs": [],
   "source": [
    "df2"
   ],
   "metadata": {
    "collapsed": false
   }
  },
  {
   "cell_type": "code",
   "execution_count": null,
   "outputs": [],
   "source": [
    "df2 = df2.drop_duplicates(keep=\"first\")"
   ],
   "metadata": {
    "collapsed": false
   }
  },
  {
   "cell_type": "code",
   "execution_count": null,
   "outputs": [],
   "source": [
    "df2"
   ],
   "metadata": {
    "collapsed": false
   }
  },
  {
   "cell_type": "code",
   "execution_count": null,
   "outputs": [],
   "source": [
    "df2[\"book_type\"] = df2[\"book_type\"].str.upper()"
   ],
   "metadata": {
    "collapsed": false
   }
  },
  {
   "cell_type": "code",
   "execution_count": null,
   "outputs": [],
   "source": [
    "df2.book_type.value_counts().to_frame()"
   ],
   "metadata": {
    "collapsed": false
   }
  },
  {
   "cell_type": "code",
   "execution_count": null,
   "outputs": [],
   "source": [
    "df2 = df2[ [\"campus_id\", \"department_id\", \"course_id\", \"section_id\", \"title\", \"edition\", \"publisher\", \"ISBN\", \"price\"]  ] "
   ],
   "metadata": {
    "collapsed": false
   }
  },
  {
   "cell_type": "code",
   "execution_count": null,
   "outputs": [],
   "source": [
    "df2"
   ],
   "metadata": {
    "collapsed": false
   }
  },
  {
   "cell_type": "code",
   "execution_count": 2,
   "metadata": {},
   "outputs": [],
   "source": [
    "filepath1 = \"C:\\\\Users\\\\ej2595ht\\\\Desktop\\\\textbook_data\\\\BNCollegeCourses_2022-02-05.csv\"\n",
    "filepath2 = \"C:\\\\Users\\\\ej2595ht\\\\Desktop\\\\textbook_data\\\\BNTextbook_2022-02-05.csv\""
   ]
  },
  {
   "cell_type": "code",
   "execution_count": null,
   "metadata": {},
   "outputs": [],
   "source": [
    "df1 = pd.read_csv(filepath1, encoding=\"utf-8\", low_memory=False)"
   ]
  },
  {
   "cell_type": "code",
   "execution_count": null,
   "metadata": {},
   "outputs": [],
   "source": [
    "df1.department_id.value_counts()"
   ]
  },
  {
   "cell_type": "code",
   "execution_count": null,
   "metadata": {},
   "outputs": [],
   "source": [
    "df1 = df1.drop_duplicates(keep=\"first\")"
   ]
  },
  {
   "cell_type": "code",
   "execution_count": null,
   "metadata": {},
   "outputs": [],
   "source": [
    "df1"
   ]
  },
  {
   "cell_type": "code",
   "execution_count": null,
   "metadata": {},
   "outputs": [],
   "source": [
    "df1 = df1[ [\"university\", \"campus_id\", \"department\", \"department_id\", \"course\", \"section\", \"term\"]  ] "
   ]
  },
  {
   "cell_type": "code",
   "execution_count": null,
   "metadata": {},
   "outputs": [],
   "source": [
    "df1"
   ]
  },
  {
   "cell_type": "code",
   "execution_count": null,
   "metadata": {},
   "outputs": [],
   "source": [
    "df1 = df1.loc[ (df1[\"term\"]==\"SPRING 2022\") , :]"
   ]
  },
  {
   "cell_type": "code",
   "execution_count": null,
   "metadata": {},
   "outputs": [],
   "source": [
    "df1"
   ]
  },
  {
   "cell_type": "code",
   "execution_count": null,
   "metadata": {},
   "outputs": [],
   "source": [
    "df1 = df1.dropna()"
   ]
  },
  {
   "cell_type": "code",
   "execution_count": null,
   "metadata": {},
   "outputs": [],
   "source": [
    "df1"
   ]
  },
  {
   "cell_type": "code",
   "execution_count": null,
   "metadata": {},
   "outputs": [],
   "source": [
    "df1[\"university\"] = df1[\"university\"].str.upper()"
   ]
  },
  {
   "cell_type": "code",
   "execution_count": null,
   "metadata": {},
   "outputs": [],
   "source": [
    "df1"
   ]
  },
  {
   "cell_type": "code",
   "execution_count": null,
   "metadata": {},
   "outputs": [],
   "source": [
    "df1.info()"
   ]
  },
  {
   "cell_type": "code",
   "execution_count": null,
   "metadata": {},
   "outputs": [],
   "source": [
    "df1[\"university\"].value_counts().to_frame()"
   ]
  },
  {
   "cell_type": "code",
   "execution_count": null,
   "metadata": {},
   "outputs": [],
   "source": [
    "df1[\"department\"].value_counts().to_frame()"
   ]
  },
  {
   "cell_type": "code",
   "execution_count": null,
   "metadata": {},
   "outputs": [],
   "source": [
    "df1[\"course\"].value_counts().to_frame()"
   ]
  },
  {
   "cell_type": "code",
   "execution_count": null,
   "metadata": {},
   "outputs": [],
   "source": [
    "df1[\"section\"].value_counts().to_frame()"
   ]
  },
  {
   "cell_type": "code",
   "execution_count": null,
   "metadata": {},
   "outputs": [],
   "source": [
    "df1[\"term\"].value_counts().to_frame()"
   ]
  },
  {
   "cell_type": "code",
   "execution_count": null,
   "metadata": {},
   "outputs": [],
   "source": [
    "df1.to_csv(\"courses_spr2022_validated.csv\", index=False)"
   ]
  },
  {
   "cell_type": "markdown",
   "metadata": {},
   "source": [
    "TEXTBOOKS CSV"
   ]
  },
  {
   "cell_type": "code",
   "execution_count": 3,
   "metadata": {},
   "outputs": [],
   "source": [
    "df2 = pd.read_csv(filepath2, encoding=\"utf-8\", low_memory=False)"
   ]
  },
  {
   "cell_type": "code",
   "execution_count": 4,
   "metadata": {},
   "outputs": [
    {
     "data": {
      "text/html": [
       "<div>\n",
       "<style scoped>\n",
       "    .dataframe tbody tr th:only-of-type {\n",
       "        vertical-align: middle;\n",
       "    }\n",
       "\n",
       "    .dataframe tbody tr th {\n",
       "        vertical-align: top;\n",
       "    }\n",
       "\n",
       "    .dataframe thead th {\n",
       "        text-align: right;\n",
       "    }\n",
       "</style>\n",
       "<table border=\"1\" class=\"dataframe\">\n",
       "  <thead>\n",
       "    <tr style=\"text-align: right;\">\n",
       "      <th></th>\n",
       "      <th>store_id</th>\n",
       "      <th>catalog_id</th>\n",
       "      <th>campus_id</th>\n",
       "      <th>term_id</th>\n",
       "      <th>department_id</th>\n",
       "      <th>course_id</th>\n",
       "      <th>section_id</th>\n",
       "      <th>title</th>\n",
       "      <th>edition</th>\n",
       "      <th>publisher</th>\n",
       "      <th>book_type</th>\n",
       "      <th>book_url</th>\n",
       "      <th>book_id</th>\n",
       "      <th>no_textbook_message</th>\n",
       "      <th>recommend_type</th>\n",
       "      <th>ISBN</th>\n",
       "      <th>price</th>\n",
       "      <th>scanDate</th>\n",
       "    </tr>\n",
       "  </thead>\n",
       "  <tbody>\n",
       "    <tr>\n",
       "      <th>0</th>\n",
       "      <td>9301.0</td>\n",
       "      <td>NaN</td>\n",
       "      <td>334</td>\n",
       "      <td>334_1_22_W</td>\n",
       "      <td>334_1_9</td>\n",
       "      <td>200</td>\n",
       "      <td>1</td>\n",
       "      <td>Cengage Unlimited - Access (1 Semester)</td>\n",
       "      <td>18</td>\n",
       "      <td>CENGAGE U</td>\n",
       "      <td>Digital Purchase</td>\n",
       "      <td>https://bsu.bncollege.com/c/Cengage-Unlimited-...</td>\n",
       "      <td>MBS_5186058_dg</td>\n",
       "      <td>NaN</td>\n",
       "      <td>eBook Option</td>\n",
       "      <td>9.780358e+12</td>\n",
       "      <td>$119.99</td>\n",
       "      <td>2022-02-05 09:46:58</td>\n",
       "    </tr>\n",
       "    <tr>\n",
       "      <th>1</th>\n",
       "      <td>9301.0</td>\n",
       "      <td>NaN</td>\n",
       "      <td>334</td>\n",
       "      <td>334_1_22_W</td>\n",
       "      <td>334_1_9</td>\n",
       "      <td>201</td>\n",
       "      <td>01</td>\n",
       "      <td>Financial Accounting: Information for Decision...</td>\n",
       "      <td>10TH 21</td>\n",
       "      <td>MCG CUSTOM</td>\n",
       "      <td>New Print</td>\n",
       "      <td>https://bsu.bncollege.com/c/Financial-Accounti...</td>\n",
       "      <td>MBS_5780024_new</td>\n",
       "      <td>NaN</td>\n",
       "      <td>REQUIRED</td>\n",
       "      <td>9.781264e+12</td>\n",
       "      <td>$107.90</td>\n",
       "      <td>2022-02-05 09:46:58</td>\n",
       "    </tr>\n",
       "    <tr>\n",
       "      <th>2</th>\n",
       "      <td>9301.0</td>\n",
       "      <td>NaN</td>\n",
       "      <td>334</td>\n",
       "      <td>334_1_22_W</td>\n",
       "      <td>334_1_9</td>\n",
       "      <td>201</td>\n",
       "      <td>02</td>\n",
       "      <td>Financial Accounting: Information for Decision...</td>\n",
       "      <td>10TH 21</td>\n",
       "      <td>MCG CUSTOM</td>\n",
       "      <td>New Print</td>\n",
       "      <td>https://bsu.bncollege.com/c/Financial-Accounti...</td>\n",
       "      <td>MBS_5780024_new</td>\n",
       "      <td>NaN</td>\n",
       "      <td>REQUIRED</td>\n",
       "      <td>9.781264e+12</td>\n",
       "      <td>$107.90</td>\n",
       "      <td>2022-02-05 09:46:58</td>\n",
       "    </tr>\n",
       "    <tr>\n",
       "      <th>3</th>\n",
       "      <td>9301.0</td>\n",
       "      <td>NaN</td>\n",
       "      <td>334</td>\n",
       "      <td>334_1_22_W</td>\n",
       "      <td>334_1_9</td>\n",
       "      <td>201</td>\n",
       "      <td>03</td>\n",
       "      <td>Financial Accounting: Information for Decision...</td>\n",
       "      <td>10TH 21</td>\n",
       "      <td>MCG CUSTOM</td>\n",
       "      <td>New Print</td>\n",
       "      <td>https://bsu.bncollege.com/c/Financial-Accounti...</td>\n",
       "      <td>MBS_5780024_new</td>\n",
       "      <td>NaN</td>\n",
       "      <td>REQUIRED</td>\n",
       "      <td>9.781264e+12</td>\n",
       "      <td>$107.90</td>\n",
       "      <td>2022-02-05 09:46:58</td>\n",
       "    </tr>\n",
       "    <tr>\n",
       "      <th>4</th>\n",
       "      <td>9301.0</td>\n",
       "      <td>NaN</td>\n",
       "      <td>334</td>\n",
       "      <td>334_1_22_W</td>\n",
       "      <td>334_1_9</td>\n",
       "      <td>201</td>\n",
       "      <td>04</td>\n",
       "      <td>Financial Accounting: Information for Decision...</td>\n",
       "      <td>10TH 21</td>\n",
       "      <td>MCG CUSTOM</td>\n",
       "      <td>New Print</td>\n",
       "      <td>https://bsu.bncollege.com/c/Financial-Accounti...</td>\n",
       "      <td>MBS_5780024_new</td>\n",
       "      <td>NaN</td>\n",
       "      <td>REQUIRED</td>\n",
       "      <td>9.781264e+12</td>\n",
       "      <td>$107.90</td>\n",
       "      <td>2022-02-05 09:46:58</td>\n",
       "    </tr>\n",
       "    <tr>\n",
       "      <th>...</th>\n",
       "      <td>...</td>\n",
       "      <td>...</td>\n",
       "      <td>...</td>\n",
       "      <td>...</td>\n",
       "      <td>...</td>\n",
       "      <td>...</td>\n",
       "      <td>...</td>\n",
       "      <td>...</td>\n",
       "      <td>...</td>\n",
       "      <td>...</td>\n",
       "      <td>...</td>\n",
       "      <td>...</td>\n",
       "      <td>...</td>\n",
       "      <td>...</td>\n",
       "      <td>...</td>\n",
       "      <td>...</td>\n",
       "      <td>...</td>\n",
       "      <td>...</td>\n",
       "    </tr>\n",
       "    <tr>\n",
       "      <th>992670</th>\n",
       "      <td>88196.0</td>\n",
       "      <td>10001.0</td>\n",
       "      <td>75156912</td>\n",
       "      <td>106477925</td>\n",
       "      <td>106757452</td>\n",
       "      <td>106762860</td>\n",
       "      <td>106737761</td>\n",
       "      <td>BIOL 252 LAB PRINTED ACCESS CODE</td>\n",
       "      <td>W21</td>\n",
       "      <td>VAN-GRINER</td>\n",
       "      <td>BUY NEW</td>\n",
       "      <td>https://unc.bncollege.com/shop/BNCB_TextbookDe...</td>\n",
       "      <td>550036485535</td>\n",
       "      <td>NaN</td>\n",
       "      <td>REQUIRED</td>\n",
       "      <td>9.781646e+12</td>\n",
       "      <td>$45.60</td>\n",
       "      <td>2022-02-05 09:46:58</td>\n",
       "    </tr>\n",
       "    <tr>\n",
       "      <th>992671</th>\n",
       "      <td>88196.0</td>\n",
       "      <td>10001.0</td>\n",
       "      <td>75156912</td>\n",
       "      <td>106477925</td>\n",
       "      <td>106757452</td>\n",
       "      <td>106762860</td>\n",
       "      <td>106737762</td>\n",
       "      <td>BIOL 252 LAB PRINTED ACCESS CODE</td>\n",
       "      <td>W21</td>\n",
       "      <td>VAN-GRINER</td>\n",
       "      <td>BUY NEW</td>\n",
       "      <td>https://unc.bncollege.com/shop/BNCB_TextbookDe...</td>\n",
       "      <td>550036485535</td>\n",
       "      <td>NaN</td>\n",
       "      <td>REQUIRED</td>\n",
       "      <td>9.781646e+12</td>\n",
       "      <td>$45.60</td>\n",
       "      <td>2022-02-05 09:46:58</td>\n",
       "    </tr>\n",
       "    <tr>\n",
       "      <th>992672</th>\n",
       "      <td>88196.0</td>\n",
       "      <td>10001.0</td>\n",
       "      <td>75156912</td>\n",
       "      <td>106477925</td>\n",
       "      <td>106757452</td>\n",
       "      <td>106762860</td>\n",
       "      <td>106737763</td>\n",
       "      <td>BIOL 252 LAB PRINTED ACCESS CODE</td>\n",
       "      <td>W21</td>\n",
       "      <td>VAN-GRINER</td>\n",
       "      <td>BUY NEW</td>\n",
       "      <td>https://unc.bncollege.com/shop/BNCB_TextbookDe...</td>\n",
       "      <td>550036485535</td>\n",
       "      <td>NaN</td>\n",
       "      <td>REQUIRED</td>\n",
       "      <td>9.781646e+12</td>\n",
       "      <td>$45.60</td>\n",
       "      <td>2022-02-05 09:46:58</td>\n",
       "    </tr>\n",
       "    <tr>\n",
       "      <th>992673</th>\n",
       "      <td>88196.0</td>\n",
       "      <td>10001.0</td>\n",
       "      <td>75156912</td>\n",
       "      <td>106477925</td>\n",
       "      <td>106757452</td>\n",
       "      <td>106762860</td>\n",
       "      <td>106737764</td>\n",
       "      <td>BIOL 252 LAB PRINTED ACCESS CODE</td>\n",
       "      <td>W21</td>\n",
       "      <td>VAN-GRINER</td>\n",
       "      <td>BUY NEW</td>\n",
       "      <td>https://unc.bncollege.com/shop/BNCB_TextbookDe...</td>\n",
       "      <td>550036485535</td>\n",
       "      <td>NaN</td>\n",
       "      <td>REQUIRED</td>\n",
       "      <td>9.781646e+12</td>\n",
       "      <td>$45.60</td>\n",
       "      <td>2022-02-05 09:46:58</td>\n",
       "    </tr>\n",
       "    <tr>\n",
       "      <th>992674</th>\n",
       "      <td>88196.0</td>\n",
       "      <td>10001.0</td>\n",
       "      <td>75156912</td>\n",
       "      <td>106477925</td>\n",
       "      <td>106757452</td>\n",
       "      <td>106762860</td>\n",
       "      <td>106737765</td>\n",
       "      <td>BIOL 252 LAB PRINTED ACCESS CODE</td>\n",
       "      <td>W21</td>\n",
       "      <td>VAN-GRINER</td>\n",
       "      <td>BUY NEW</td>\n",
       "      <td>https://unc.bncollege.com/shop/BNCB_TextbookDe...</td>\n",
       "      <td>550036485535</td>\n",
       "      <td>NaN</td>\n",
       "      <td>REQUIRED</td>\n",
       "      <td>9.781646e+12</td>\n",
       "      <td>$45.60</td>\n",
       "      <td>2022-02-05 09:46:58</td>\n",
       "    </tr>\n",
       "  </tbody>\n",
       "</table>\n",
       "<p>992675 rows × 18 columns</p>\n",
       "</div>"
      ],
      "text/plain": [
       "        store_id  catalog_id campus_id     term_id department_id  course_id  \\\n",
       "0         9301.0         NaN       334  334_1_22_W       334_1_9        200   \n",
       "1         9301.0         NaN       334  334_1_22_W       334_1_9        201   \n",
       "2         9301.0         NaN       334  334_1_22_W       334_1_9        201   \n",
       "3         9301.0         NaN       334  334_1_22_W       334_1_9        201   \n",
       "4         9301.0         NaN       334  334_1_22_W       334_1_9        201   \n",
       "...          ...         ...       ...         ...           ...        ...   \n",
       "992670   88196.0     10001.0  75156912   106477925     106757452  106762860   \n",
       "992671   88196.0     10001.0  75156912   106477925     106757452  106762860   \n",
       "992672   88196.0     10001.0  75156912   106477925     106757452  106762860   \n",
       "992673   88196.0     10001.0  75156912   106477925     106757452  106762860   \n",
       "992674   88196.0     10001.0  75156912   106477925     106757452  106762860   \n",
       "\n",
       "       section_id                                              title  edition  \\\n",
       "0               1            Cengage Unlimited - Access (1 Semester)       18   \n",
       "1              01  Financial Accounting: Information for Decision...  10TH 21   \n",
       "2              02  Financial Accounting: Information for Decision...  10TH 21   \n",
       "3              03  Financial Accounting: Information for Decision...  10TH 21   \n",
       "4              04  Financial Accounting: Information for Decision...  10TH 21   \n",
       "...           ...                                                ...      ...   \n",
       "992670  106737761                   BIOL 252 LAB PRINTED ACCESS CODE      W21   \n",
       "992671  106737762                   BIOL 252 LAB PRINTED ACCESS CODE      W21   \n",
       "992672  106737763                   BIOL 252 LAB PRINTED ACCESS CODE      W21   \n",
       "992673  106737764                   BIOL 252 LAB PRINTED ACCESS CODE      W21   \n",
       "992674  106737765                   BIOL 252 LAB PRINTED ACCESS CODE      W21   \n",
       "\n",
       "         publisher         book_type  \\\n",
       "0        CENGAGE U  Digital Purchase   \n",
       "1       MCG CUSTOM         New Print   \n",
       "2       MCG CUSTOM         New Print   \n",
       "3       MCG CUSTOM         New Print   \n",
       "4       MCG CUSTOM         New Print   \n",
       "...            ...               ...   \n",
       "992670  VAN-GRINER           BUY NEW   \n",
       "992671  VAN-GRINER           BUY NEW   \n",
       "992672  VAN-GRINER           BUY NEW   \n",
       "992673  VAN-GRINER           BUY NEW   \n",
       "992674  VAN-GRINER           BUY NEW   \n",
       "\n",
       "                                                 book_url          book_id  \\\n",
       "0       https://bsu.bncollege.com/c/Cengage-Unlimited-...   MBS_5186058_dg   \n",
       "1       https://bsu.bncollege.com/c/Financial-Accounti...  MBS_5780024_new   \n",
       "2       https://bsu.bncollege.com/c/Financial-Accounti...  MBS_5780024_new   \n",
       "3       https://bsu.bncollege.com/c/Financial-Accounti...  MBS_5780024_new   \n",
       "4       https://bsu.bncollege.com/c/Financial-Accounti...  MBS_5780024_new   \n",
       "...                                                   ...              ...   \n",
       "992670  https://unc.bncollege.com/shop/BNCB_TextbookDe...     550036485535   \n",
       "992671  https://unc.bncollege.com/shop/BNCB_TextbookDe...     550036485535   \n",
       "992672  https://unc.bncollege.com/shop/BNCB_TextbookDe...     550036485535   \n",
       "992673  https://unc.bncollege.com/shop/BNCB_TextbookDe...     550036485535   \n",
       "992674  https://unc.bncollege.com/shop/BNCB_TextbookDe...     550036485535   \n",
       "\n",
       "       no_textbook_message recommend_type          ISBN    price  \\\n",
       "0                      NaN   eBook Option  9.780358e+12  $119.99   \n",
       "1                      NaN       REQUIRED  9.781264e+12  $107.90   \n",
       "2                      NaN       REQUIRED  9.781264e+12  $107.90   \n",
       "3                      NaN       REQUIRED  9.781264e+12  $107.90   \n",
       "4                      NaN       REQUIRED  9.781264e+12  $107.90   \n",
       "...                    ...            ...           ...      ...   \n",
       "992670                 NaN       REQUIRED  9.781646e+12   $45.60   \n",
       "992671                 NaN       REQUIRED  9.781646e+12   $45.60   \n",
       "992672                 NaN       REQUIRED  9.781646e+12   $45.60   \n",
       "992673                 NaN       REQUIRED  9.781646e+12   $45.60   \n",
       "992674                 NaN       REQUIRED  9.781646e+12   $45.60   \n",
       "\n",
       "                   scanDate  \n",
       "0       2022-02-05 09:46:58  \n",
       "1       2022-02-05 09:46:58  \n",
       "2       2022-02-05 09:46:58  \n",
       "3       2022-02-05 09:46:58  \n",
       "4       2022-02-05 09:46:58  \n",
       "...                     ...  \n",
       "992670  2022-02-05 09:46:58  \n",
       "992671  2022-02-05 09:46:58  \n",
       "992672  2022-02-05 09:46:58  \n",
       "992673  2022-02-05 09:46:58  \n",
       "992674  2022-02-05 09:46:58  \n",
       "\n",
       "[992675 rows x 18 columns]"
      ]
     },
     "execution_count": 4,
     "metadata": {},
     "output_type": "execute_result"
    }
   ],
   "source": [
    "df2"
   ]
  },
  {
   "cell_type": "code",
   "execution_count": 5,
   "metadata": {},
   "outputs": [],
   "source": [
    "df2 = df2.drop_duplicates(keep=\"first\")"
   ]
  },
  {
   "cell_type": "code",
   "execution_count": 6,
   "metadata": {},
   "outputs": [
    {
     "data": {
      "text/html": [
       "<div>\n",
       "<style scoped>\n",
       "    .dataframe tbody tr th:only-of-type {\n",
       "        vertical-align: middle;\n",
       "    }\n",
       "\n",
       "    .dataframe tbody tr th {\n",
       "        vertical-align: top;\n",
       "    }\n",
       "\n",
       "    .dataframe thead th {\n",
       "        text-align: right;\n",
       "    }\n",
       "</style>\n",
       "<table border=\"1\" class=\"dataframe\">\n",
       "  <thead>\n",
       "    <tr style=\"text-align: right;\">\n",
       "      <th></th>\n",
       "      <th>store_id</th>\n",
       "      <th>catalog_id</th>\n",
       "      <th>campus_id</th>\n",
       "      <th>term_id</th>\n",
       "      <th>department_id</th>\n",
       "      <th>course_id</th>\n",
       "      <th>section_id</th>\n",
       "      <th>title</th>\n",
       "      <th>edition</th>\n",
       "      <th>publisher</th>\n",
       "      <th>book_type</th>\n",
       "      <th>book_url</th>\n",
       "      <th>book_id</th>\n",
       "      <th>no_textbook_message</th>\n",
       "      <th>recommend_type</th>\n",
       "      <th>ISBN</th>\n",
       "      <th>price</th>\n",
       "      <th>scanDate</th>\n",
       "    </tr>\n",
       "  </thead>\n",
       "  <tbody>\n",
       "    <tr>\n",
       "      <th>0</th>\n",
       "      <td>9301.0</td>\n",
       "      <td>NaN</td>\n",
       "      <td>334</td>\n",
       "      <td>334_1_22_W</td>\n",
       "      <td>334_1_9</td>\n",
       "      <td>200</td>\n",
       "      <td>1</td>\n",
       "      <td>Cengage Unlimited - Access (1 Semester)</td>\n",
       "      <td>18</td>\n",
       "      <td>CENGAGE U</td>\n",
       "      <td>Digital Purchase</td>\n",
       "      <td>https://bsu.bncollege.com/c/Cengage-Unlimited-...</td>\n",
       "      <td>MBS_5186058_dg</td>\n",
       "      <td>NaN</td>\n",
       "      <td>eBook Option</td>\n",
       "      <td>9.780358e+12</td>\n",
       "      <td>$119.99</td>\n",
       "      <td>2022-02-05 09:46:58</td>\n",
       "    </tr>\n",
       "    <tr>\n",
       "      <th>1</th>\n",
       "      <td>9301.0</td>\n",
       "      <td>NaN</td>\n",
       "      <td>334</td>\n",
       "      <td>334_1_22_W</td>\n",
       "      <td>334_1_9</td>\n",
       "      <td>201</td>\n",
       "      <td>01</td>\n",
       "      <td>Financial Accounting: Information for Decision...</td>\n",
       "      <td>10TH 21</td>\n",
       "      <td>MCG CUSTOM</td>\n",
       "      <td>New Print</td>\n",
       "      <td>https://bsu.bncollege.com/c/Financial-Accounti...</td>\n",
       "      <td>MBS_5780024_new</td>\n",
       "      <td>NaN</td>\n",
       "      <td>REQUIRED</td>\n",
       "      <td>9.781264e+12</td>\n",
       "      <td>$107.90</td>\n",
       "      <td>2022-02-05 09:46:58</td>\n",
       "    </tr>\n",
       "    <tr>\n",
       "      <th>2</th>\n",
       "      <td>9301.0</td>\n",
       "      <td>NaN</td>\n",
       "      <td>334</td>\n",
       "      <td>334_1_22_W</td>\n",
       "      <td>334_1_9</td>\n",
       "      <td>201</td>\n",
       "      <td>02</td>\n",
       "      <td>Financial Accounting: Information for Decision...</td>\n",
       "      <td>10TH 21</td>\n",
       "      <td>MCG CUSTOM</td>\n",
       "      <td>New Print</td>\n",
       "      <td>https://bsu.bncollege.com/c/Financial-Accounti...</td>\n",
       "      <td>MBS_5780024_new</td>\n",
       "      <td>NaN</td>\n",
       "      <td>REQUIRED</td>\n",
       "      <td>9.781264e+12</td>\n",
       "      <td>$107.90</td>\n",
       "      <td>2022-02-05 09:46:58</td>\n",
       "    </tr>\n",
       "    <tr>\n",
       "      <th>3</th>\n",
       "      <td>9301.0</td>\n",
       "      <td>NaN</td>\n",
       "      <td>334</td>\n",
       "      <td>334_1_22_W</td>\n",
       "      <td>334_1_9</td>\n",
       "      <td>201</td>\n",
       "      <td>03</td>\n",
       "      <td>Financial Accounting: Information for Decision...</td>\n",
       "      <td>10TH 21</td>\n",
       "      <td>MCG CUSTOM</td>\n",
       "      <td>New Print</td>\n",
       "      <td>https://bsu.bncollege.com/c/Financial-Accounti...</td>\n",
       "      <td>MBS_5780024_new</td>\n",
       "      <td>NaN</td>\n",
       "      <td>REQUIRED</td>\n",
       "      <td>9.781264e+12</td>\n",
       "      <td>$107.90</td>\n",
       "      <td>2022-02-05 09:46:58</td>\n",
       "    </tr>\n",
       "    <tr>\n",
       "      <th>4</th>\n",
       "      <td>9301.0</td>\n",
       "      <td>NaN</td>\n",
       "      <td>334</td>\n",
       "      <td>334_1_22_W</td>\n",
       "      <td>334_1_9</td>\n",
       "      <td>201</td>\n",
       "      <td>04</td>\n",
       "      <td>Financial Accounting: Information for Decision...</td>\n",
       "      <td>10TH 21</td>\n",
       "      <td>MCG CUSTOM</td>\n",
       "      <td>New Print</td>\n",
       "      <td>https://bsu.bncollege.com/c/Financial-Accounti...</td>\n",
       "      <td>MBS_5780024_new</td>\n",
       "      <td>NaN</td>\n",
       "      <td>REQUIRED</td>\n",
       "      <td>9.781264e+12</td>\n",
       "      <td>$107.90</td>\n",
       "      <td>2022-02-05 09:46:58</td>\n",
       "    </tr>\n",
       "    <tr>\n",
       "      <th>...</th>\n",
       "      <td>...</td>\n",
       "      <td>...</td>\n",
       "      <td>...</td>\n",
       "      <td>...</td>\n",
       "      <td>...</td>\n",
       "      <td>...</td>\n",
       "      <td>...</td>\n",
       "      <td>...</td>\n",
       "      <td>...</td>\n",
       "      <td>...</td>\n",
       "      <td>...</td>\n",
       "      <td>...</td>\n",
       "      <td>...</td>\n",
       "      <td>...</td>\n",
       "      <td>...</td>\n",
       "      <td>...</td>\n",
       "      <td>...</td>\n",
       "      <td>...</td>\n",
       "    </tr>\n",
       "    <tr>\n",
       "      <th>992670</th>\n",
       "      <td>88196.0</td>\n",
       "      <td>10001.0</td>\n",
       "      <td>75156912</td>\n",
       "      <td>106477925</td>\n",
       "      <td>106757452</td>\n",
       "      <td>106762860</td>\n",
       "      <td>106737761</td>\n",
       "      <td>BIOL 252 LAB PRINTED ACCESS CODE</td>\n",
       "      <td>W21</td>\n",
       "      <td>VAN-GRINER</td>\n",
       "      <td>BUY NEW</td>\n",
       "      <td>https://unc.bncollege.com/shop/BNCB_TextbookDe...</td>\n",
       "      <td>550036485535</td>\n",
       "      <td>NaN</td>\n",
       "      <td>REQUIRED</td>\n",
       "      <td>9.781646e+12</td>\n",
       "      <td>$45.60</td>\n",
       "      <td>2022-02-05 09:46:58</td>\n",
       "    </tr>\n",
       "    <tr>\n",
       "      <th>992671</th>\n",
       "      <td>88196.0</td>\n",
       "      <td>10001.0</td>\n",
       "      <td>75156912</td>\n",
       "      <td>106477925</td>\n",
       "      <td>106757452</td>\n",
       "      <td>106762860</td>\n",
       "      <td>106737762</td>\n",
       "      <td>BIOL 252 LAB PRINTED ACCESS CODE</td>\n",
       "      <td>W21</td>\n",
       "      <td>VAN-GRINER</td>\n",
       "      <td>BUY NEW</td>\n",
       "      <td>https://unc.bncollege.com/shop/BNCB_TextbookDe...</td>\n",
       "      <td>550036485535</td>\n",
       "      <td>NaN</td>\n",
       "      <td>REQUIRED</td>\n",
       "      <td>9.781646e+12</td>\n",
       "      <td>$45.60</td>\n",
       "      <td>2022-02-05 09:46:58</td>\n",
       "    </tr>\n",
       "    <tr>\n",
       "      <th>992672</th>\n",
       "      <td>88196.0</td>\n",
       "      <td>10001.0</td>\n",
       "      <td>75156912</td>\n",
       "      <td>106477925</td>\n",
       "      <td>106757452</td>\n",
       "      <td>106762860</td>\n",
       "      <td>106737763</td>\n",
       "      <td>BIOL 252 LAB PRINTED ACCESS CODE</td>\n",
       "      <td>W21</td>\n",
       "      <td>VAN-GRINER</td>\n",
       "      <td>BUY NEW</td>\n",
       "      <td>https://unc.bncollege.com/shop/BNCB_TextbookDe...</td>\n",
       "      <td>550036485535</td>\n",
       "      <td>NaN</td>\n",
       "      <td>REQUIRED</td>\n",
       "      <td>9.781646e+12</td>\n",
       "      <td>$45.60</td>\n",
       "      <td>2022-02-05 09:46:58</td>\n",
       "    </tr>\n",
       "    <tr>\n",
       "      <th>992673</th>\n",
       "      <td>88196.0</td>\n",
       "      <td>10001.0</td>\n",
       "      <td>75156912</td>\n",
       "      <td>106477925</td>\n",
       "      <td>106757452</td>\n",
       "      <td>106762860</td>\n",
       "      <td>106737764</td>\n",
       "      <td>BIOL 252 LAB PRINTED ACCESS CODE</td>\n",
       "      <td>W21</td>\n",
       "      <td>VAN-GRINER</td>\n",
       "      <td>BUY NEW</td>\n",
       "      <td>https://unc.bncollege.com/shop/BNCB_TextbookDe...</td>\n",
       "      <td>550036485535</td>\n",
       "      <td>NaN</td>\n",
       "      <td>REQUIRED</td>\n",
       "      <td>9.781646e+12</td>\n",
       "      <td>$45.60</td>\n",
       "      <td>2022-02-05 09:46:58</td>\n",
       "    </tr>\n",
       "    <tr>\n",
       "      <th>992674</th>\n",
       "      <td>88196.0</td>\n",
       "      <td>10001.0</td>\n",
       "      <td>75156912</td>\n",
       "      <td>106477925</td>\n",
       "      <td>106757452</td>\n",
       "      <td>106762860</td>\n",
       "      <td>106737765</td>\n",
       "      <td>BIOL 252 LAB PRINTED ACCESS CODE</td>\n",
       "      <td>W21</td>\n",
       "      <td>VAN-GRINER</td>\n",
       "      <td>BUY NEW</td>\n",
       "      <td>https://unc.bncollege.com/shop/BNCB_TextbookDe...</td>\n",
       "      <td>550036485535</td>\n",
       "      <td>NaN</td>\n",
       "      <td>REQUIRED</td>\n",
       "      <td>9.781646e+12</td>\n",
       "      <td>$45.60</td>\n",
       "      <td>2022-02-05 09:46:58</td>\n",
       "    </tr>\n",
       "  </tbody>\n",
       "</table>\n",
       "<p>990727 rows × 18 columns</p>\n",
       "</div>"
      ],
      "text/plain": [
       "        store_id  catalog_id campus_id     term_id department_id  course_id  \\\n",
       "0         9301.0         NaN       334  334_1_22_W       334_1_9        200   \n",
       "1         9301.0         NaN       334  334_1_22_W       334_1_9        201   \n",
       "2         9301.0         NaN       334  334_1_22_W       334_1_9        201   \n",
       "3         9301.0         NaN       334  334_1_22_W       334_1_9        201   \n",
       "4         9301.0         NaN       334  334_1_22_W       334_1_9        201   \n",
       "...          ...         ...       ...         ...           ...        ...   \n",
       "992670   88196.0     10001.0  75156912   106477925     106757452  106762860   \n",
       "992671   88196.0     10001.0  75156912   106477925     106757452  106762860   \n",
       "992672   88196.0     10001.0  75156912   106477925     106757452  106762860   \n",
       "992673   88196.0     10001.0  75156912   106477925     106757452  106762860   \n",
       "992674   88196.0     10001.0  75156912   106477925     106757452  106762860   \n",
       "\n",
       "       section_id                                              title  edition  \\\n",
       "0               1            Cengage Unlimited - Access (1 Semester)       18   \n",
       "1              01  Financial Accounting: Information for Decision...  10TH 21   \n",
       "2              02  Financial Accounting: Information for Decision...  10TH 21   \n",
       "3              03  Financial Accounting: Information for Decision...  10TH 21   \n",
       "4              04  Financial Accounting: Information for Decision...  10TH 21   \n",
       "...           ...                                                ...      ...   \n",
       "992670  106737761                   BIOL 252 LAB PRINTED ACCESS CODE      W21   \n",
       "992671  106737762                   BIOL 252 LAB PRINTED ACCESS CODE      W21   \n",
       "992672  106737763                   BIOL 252 LAB PRINTED ACCESS CODE      W21   \n",
       "992673  106737764                   BIOL 252 LAB PRINTED ACCESS CODE      W21   \n",
       "992674  106737765                   BIOL 252 LAB PRINTED ACCESS CODE      W21   \n",
       "\n",
       "         publisher         book_type  \\\n",
       "0        CENGAGE U  Digital Purchase   \n",
       "1       MCG CUSTOM         New Print   \n",
       "2       MCG CUSTOM         New Print   \n",
       "3       MCG CUSTOM         New Print   \n",
       "4       MCG CUSTOM         New Print   \n",
       "...            ...               ...   \n",
       "992670  VAN-GRINER           BUY NEW   \n",
       "992671  VAN-GRINER           BUY NEW   \n",
       "992672  VAN-GRINER           BUY NEW   \n",
       "992673  VAN-GRINER           BUY NEW   \n",
       "992674  VAN-GRINER           BUY NEW   \n",
       "\n",
       "                                                 book_url          book_id  \\\n",
       "0       https://bsu.bncollege.com/c/Cengage-Unlimited-...   MBS_5186058_dg   \n",
       "1       https://bsu.bncollege.com/c/Financial-Accounti...  MBS_5780024_new   \n",
       "2       https://bsu.bncollege.com/c/Financial-Accounti...  MBS_5780024_new   \n",
       "3       https://bsu.bncollege.com/c/Financial-Accounti...  MBS_5780024_new   \n",
       "4       https://bsu.bncollege.com/c/Financial-Accounti...  MBS_5780024_new   \n",
       "...                                                   ...              ...   \n",
       "992670  https://unc.bncollege.com/shop/BNCB_TextbookDe...     550036485535   \n",
       "992671  https://unc.bncollege.com/shop/BNCB_TextbookDe...     550036485535   \n",
       "992672  https://unc.bncollege.com/shop/BNCB_TextbookDe...     550036485535   \n",
       "992673  https://unc.bncollege.com/shop/BNCB_TextbookDe...     550036485535   \n",
       "992674  https://unc.bncollege.com/shop/BNCB_TextbookDe...     550036485535   \n",
       "\n",
       "       no_textbook_message recommend_type          ISBN    price  \\\n",
       "0                      NaN   eBook Option  9.780358e+12  $119.99   \n",
       "1                      NaN       REQUIRED  9.781264e+12  $107.90   \n",
       "2                      NaN       REQUIRED  9.781264e+12  $107.90   \n",
       "3                      NaN       REQUIRED  9.781264e+12  $107.90   \n",
       "4                      NaN       REQUIRED  9.781264e+12  $107.90   \n",
       "...                    ...            ...           ...      ...   \n",
       "992670                 NaN       REQUIRED  9.781646e+12   $45.60   \n",
       "992671                 NaN       REQUIRED  9.781646e+12   $45.60   \n",
       "992672                 NaN       REQUIRED  9.781646e+12   $45.60   \n",
       "992673                 NaN       REQUIRED  9.781646e+12   $45.60   \n",
       "992674                 NaN       REQUIRED  9.781646e+12   $45.60   \n",
       "\n",
       "                   scanDate  \n",
       "0       2022-02-05 09:46:58  \n",
       "1       2022-02-05 09:46:58  \n",
       "2       2022-02-05 09:46:58  \n",
       "3       2022-02-05 09:46:58  \n",
       "4       2022-02-05 09:46:58  \n",
       "...                     ...  \n",
       "992670  2022-02-05 09:46:58  \n",
       "992671  2022-02-05 09:46:58  \n",
       "992672  2022-02-05 09:46:58  \n",
       "992673  2022-02-05 09:46:58  \n",
       "992674  2022-02-05 09:46:58  \n",
       "\n",
       "[990727 rows x 18 columns]"
      ]
     },
     "execution_count": 6,
     "metadata": {},
     "output_type": "execute_result"
    }
   ],
   "source": [
    "df2"
   ]
  },
  {
   "cell_type": "code",
   "execution_count": 8,
   "metadata": {},
   "outputs": [
    {
     "name": "stderr",
     "output_type": "stream",
     "text": [
      "C:\\Users\\ej2595ht\\AppData\\Local\\Temp\\ipykernel_10140\\2776729766.py:1: SettingWithCopyWarning: \n",
      "A value is trying to be set on a copy of a slice from a DataFrame.\n",
      "Try using .loc[row_indexer,col_indexer] = value instead\n",
      "\n",
      "See the caveats in the documentation: https://pandas.pydata.org/pandas-docs/stable/user_guide/indexing.html#returning-a-view-versus-a-copy\n",
      "  df2[\"book_type\"] = df2[\"book_type\"].str.upper()\n"
     ]
    }
   ],
   "source": [
    "df2[\"book_type\"] = df2[\"book_type\"].str.upper()"
   ]
  },
  {
   "cell_type": "code",
   "execution_count": 9,
   "metadata": {},
   "outputs": [
    {
     "data": {
      "text/html": [
       "<div>\n",
       "<style scoped>\n",
       "    .dataframe tbody tr th:only-of-type {\n",
       "        vertical-align: middle;\n",
       "    }\n",
       "\n",
       "    .dataframe tbody tr th {\n",
       "        vertical-align: top;\n",
       "    }\n",
       "\n",
       "    .dataframe thead th {\n",
       "        text-align: right;\n",
       "    }\n",
       "</style>\n",
       "<table border=\"1\" class=\"dataframe\">\n",
       "  <thead>\n",
       "    <tr style=\"text-align: right;\">\n",
       "      <th></th>\n",
       "      <th>book_type</th>\n",
       "    </tr>\n",
       "  </thead>\n",
       "  <tbody>\n",
       "    <tr>\n",
       "      <th>NEW PRINT</th>\n",
       "      <td>176916</td>\n",
       "    </tr>\n",
       "    <tr>\n",
       "      <th>USED PRINT</th>\n",
       "      <td>137171</td>\n",
       "    </tr>\n",
       "    <tr>\n",
       "      <th>NEW PRINT RENTAL</th>\n",
       "      <td>99688</td>\n",
       "    </tr>\n",
       "    <tr>\n",
       "      <th>USED PRINT RENTAL</th>\n",
       "      <td>98007</td>\n",
       "    </tr>\n",
       "    <tr>\n",
       "      <th>DIGITAL PURCHASE</th>\n",
       "      <td>28571</td>\n",
       "    </tr>\n",
       "    <tr>\n",
       "      <th>BUY NEW</th>\n",
       "      <td>22884</td>\n",
       "    </tr>\n",
       "    <tr>\n",
       "      <th>BUY USED</th>\n",
       "      <td>16150</td>\n",
       "    </tr>\n",
       "    <tr>\n",
       "      <th>DIGITAL RENTAL</th>\n",
       "      <td>15088</td>\n",
       "    </tr>\n",
       "    <tr>\n",
       "      <th>RENT NEW</th>\n",
       "      <td>12781</td>\n",
       "    </tr>\n",
       "    <tr>\n",
       "      <th>RENT USED</th>\n",
       "      <td>12536</td>\n",
       "    </tr>\n",
       "    <tr>\n",
       "      <th>BUY DIGITAL</th>\n",
       "      <td>10627</td>\n",
       "    </tr>\n",
       "    <tr>\n",
       "      <th>COURSE MATERIAL</th>\n",
       "      <td>6042</td>\n",
       "    </tr>\n",
       "    <tr>\n",
       "      <th>RENT ONLY</th>\n",
       "      <td>4452</td>\n",
       "    </tr>\n",
       "    <tr>\n",
       "      <th>RENT DIGITAL</th>\n",
       "      <td>4342</td>\n",
       "    </tr>\n",
       "  </tbody>\n",
       "</table>\n",
       "</div>"
      ],
      "text/plain": [
       "                   book_type\n",
       "NEW PRINT             176916\n",
       "USED PRINT            137171\n",
       "NEW PRINT RENTAL       99688\n",
       "USED PRINT RENTAL      98007\n",
       "DIGITAL PURCHASE       28571\n",
       "BUY NEW                22884\n",
       "BUY USED               16150\n",
       "DIGITAL RENTAL         15088\n",
       "RENT NEW               12781\n",
       "RENT USED              12536\n",
       "BUY DIGITAL            10627\n",
       "COURSE MATERIAL         6042\n",
       "RENT ONLY               4452\n",
       "RENT DIGITAL            4342"
      ]
     },
     "execution_count": 9,
     "metadata": {},
     "output_type": "execute_result"
    }
   ],
   "source": [
    "df2.book_type.value_counts().to_frame()"
   ]
  },
  {
   "cell_type": "code",
   "execution_count": 10,
   "metadata": {},
   "outputs": [],
   "source": [
    "df2 = df2[ [\"campus_id\", \"department_id\", \"course_id\", \"section_id\", \"title\", \"edition\", \"publisher\", \"ISBN\", \"price\"]  ] "
   ]
  },
  {
   "cell_type": "code",
   "execution_count": 11,
   "metadata": {},
   "outputs": [
    {
     "data": {
      "text/html": [
       "<div>\n",
       "<style scoped>\n",
       "    .dataframe tbody tr th:only-of-type {\n",
       "        vertical-align: middle;\n",
       "    }\n",
       "\n",
       "    .dataframe tbody tr th {\n",
       "        vertical-align: top;\n",
       "    }\n",
       "\n",
       "    .dataframe thead th {\n",
       "        text-align: right;\n",
       "    }\n",
       "</style>\n",
       "<table border=\"1\" class=\"dataframe\">\n",
       "  <thead>\n",
       "    <tr style=\"text-align: right;\">\n",
       "      <th></th>\n",
       "      <th>campus_id</th>\n",
       "      <th>department_id</th>\n",
       "      <th>course_id</th>\n",
       "      <th>section_id</th>\n",
       "      <th>title</th>\n",
       "      <th>edition</th>\n",
       "      <th>publisher</th>\n",
       "      <th>ISBN</th>\n",
       "      <th>price</th>\n",
       "    </tr>\n",
       "  </thead>\n",
       "  <tbody>\n",
       "    <tr>\n",
       "      <th>0</th>\n",
       "      <td>334</td>\n",
       "      <td>334_1_9</td>\n",
       "      <td>200</td>\n",
       "      <td>1</td>\n",
       "      <td>Cengage Unlimited - Access (1 Semester)</td>\n",
       "      <td>18</td>\n",
       "      <td>CENGAGE U</td>\n",
       "      <td>9.780358e+12</td>\n",
       "      <td>$119.99</td>\n",
       "    </tr>\n",
       "    <tr>\n",
       "      <th>1</th>\n",
       "      <td>334</td>\n",
       "      <td>334_1_9</td>\n",
       "      <td>201</td>\n",
       "      <td>01</td>\n",
       "      <td>Financial Accounting: Information for Decision...</td>\n",
       "      <td>10TH 21</td>\n",
       "      <td>MCG CUSTOM</td>\n",
       "      <td>9.781264e+12</td>\n",
       "      <td>$107.90</td>\n",
       "    </tr>\n",
       "    <tr>\n",
       "      <th>2</th>\n",
       "      <td>334</td>\n",
       "      <td>334_1_9</td>\n",
       "      <td>201</td>\n",
       "      <td>02</td>\n",
       "      <td>Financial Accounting: Information for Decision...</td>\n",
       "      <td>10TH 21</td>\n",
       "      <td>MCG CUSTOM</td>\n",
       "      <td>9.781264e+12</td>\n",
       "      <td>$107.90</td>\n",
       "    </tr>\n",
       "    <tr>\n",
       "      <th>3</th>\n",
       "      <td>334</td>\n",
       "      <td>334_1_9</td>\n",
       "      <td>201</td>\n",
       "      <td>03</td>\n",
       "      <td>Financial Accounting: Information for Decision...</td>\n",
       "      <td>10TH 21</td>\n",
       "      <td>MCG CUSTOM</td>\n",
       "      <td>9.781264e+12</td>\n",
       "      <td>$107.90</td>\n",
       "    </tr>\n",
       "    <tr>\n",
       "      <th>4</th>\n",
       "      <td>334</td>\n",
       "      <td>334_1_9</td>\n",
       "      <td>201</td>\n",
       "      <td>04</td>\n",
       "      <td>Financial Accounting: Information for Decision...</td>\n",
       "      <td>10TH 21</td>\n",
       "      <td>MCG CUSTOM</td>\n",
       "      <td>9.781264e+12</td>\n",
       "      <td>$107.90</td>\n",
       "    </tr>\n",
       "    <tr>\n",
       "      <th>...</th>\n",
       "      <td>...</td>\n",
       "      <td>...</td>\n",
       "      <td>...</td>\n",
       "      <td>...</td>\n",
       "      <td>...</td>\n",
       "      <td>...</td>\n",
       "      <td>...</td>\n",
       "      <td>...</td>\n",
       "      <td>...</td>\n",
       "    </tr>\n",
       "    <tr>\n",
       "      <th>992670</th>\n",
       "      <td>75156912</td>\n",
       "      <td>106757452</td>\n",
       "      <td>106762860</td>\n",
       "      <td>106737761</td>\n",
       "      <td>BIOL 252 LAB PRINTED ACCESS CODE</td>\n",
       "      <td>W21</td>\n",
       "      <td>VAN-GRINER</td>\n",
       "      <td>9.781646e+12</td>\n",
       "      <td>$45.60</td>\n",
       "    </tr>\n",
       "    <tr>\n",
       "      <th>992671</th>\n",
       "      <td>75156912</td>\n",
       "      <td>106757452</td>\n",
       "      <td>106762860</td>\n",
       "      <td>106737762</td>\n",
       "      <td>BIOL 252 LAB PRINTED ACCESS CODE</td>\n",
       "      <td>W21</td>\n",
       "      <td>VAN-GRINER</td>\n",
       "      <td>9.781646e+12</td>\n",
       "      <td>$45.60</td>\n",
       "    </tr>\n",
       "    <tr>\n",
       "      <th>992672</th>\n",
       "      <td>75156912</td>\n",
       "      <td>106757452</td>\n",
       "      <td>106762860</td>\n",
       "      <td>106737763</td>\n",
       "      <td>BIOL 252 LAB PRINTED ACCESS CODE</td>\n",
       "      <td>W21</td>\n",
       "      <td>VAN-GRINER</td>\n",
       "      <td>9.781646e+12</td>\n",
       "      <td>$45.60</td>\n",
       "    </tr>\n",
       "    <tr>\n",
       "      <th>992673</th>\n",
       "      <td>75156912</td>\n",
       "      <td>106757452</td>\n",
       "      <td>106762860</td>\n",
       "      <td>106737764</td>\n",
       "      <td>BIOL 252 LAB PRINTED ACCESS CODE</td>\n",
       "      <td>W21</td>\n",
       "      <td>VAN-GRINER</td>\n",
       "      <td>9.781646e+12</td>\n",
       "      <td>$45.60</td>\n",
       "    </tr>\n",
       "    <tr>\n",
       "      <th>992674</th>\n",
       "      <td>75156912</td>\n",
       "      <td>106757452</td>\n",
       "      <td>106762860</td>\n",
       "      <td>106737765</td>\n",
       "      <td>BIOL 252 LAB PRINTED ACCESS CODE</td>\n",
       "      <td>W21</td>\n",
       "      <td>VAN-GRINER</td>\n",
       "      <td>9.781646e+12</td>\n",
       "      <td>$45.60</td>\n",
       "    </tr>\n",
       "  </tbody>\n",
       "</table>\n",
       "<p>990727 rows × 9 columns</p>\n",
       "</div>"
      ],
      "text/plain": [
       "       campus_id department_id  course_id section_id  \\\n",
       "0            334       334_1_9        200          1   \n",
       "1            334       334_1_9        201         01   \n",
       "2            334       334_1_9        201         02   \n",
       "3            334       334_1_9        201         03   \n",
       "4            334       334_1_9        201         04   \n",
       "...          ...           ...        ...        ...   \n",
       "992670  75156912     106757452  106762860  106737761   \n",
       "992671  75156912     106757452  106762860  106737762   \n",
       "992672  75156912     106757452  106762860  106737763   \n",
       "992673  75156912     106757452  106762860  106737764   \n",
       "992674  75156912     106757452  106762860  106737765   \n",
       "\n",
       "                                                    title  edition  \\\n",
       "0                 Cengage Unlimited - Access (1 Semester)       18   \n",
       "1       Financial Accounting: Information for Decision...  10TH 21   \n",
       "2       Financial Accounting: Information for Decision...  10TH 21   \n",
       "3       Financial Accounting: Information for Decision...  10TH 21   \n",
       "4       Financial Accounting: Information for Decision...  10TH 21   \n",
       "...                                                   ...      ...   \n",
       "992670                   BIOL 252 LAB PRINTED ACCESS CODE      W21   \n",
       "992671                   BIOL 252 LAB PRINTED ACCESS CODE      W21   \n",
       "992672                   BIOL 252 LAB PRINTED ACCESS CODE      W21   \n",
       "992673                   BIOL 252 LAB PRINTED ACCESS CODE      W21   \n",
       "992674                   BIOL 252 LAB PRINTED ACCESS CODE      W21   \n",
       "\n",
       "         publisher          ISBN    price  \n",
       "0        CENGAGE U  9.780358e+12  $119.99  \n",
       "1       MCG CUSTOM  9.781264e+12  $107.90  \n",
       "2       MCG CUSTOM  9.781264e+12  $107.90  \n",
       "3       MCG CUSTOM  9.781264e+12  $107.90  \n",
       "4       MCG CUSTOM  9.781264e+12  $107.90  \n",
       "...            ...           ...      ...  \n",
       "992670  VAN-GRINER  9.781646e+12   $45.60  \n",
       "992671  VAN-GRINER  9.781646e+12   $45.60  \n",
       "992672  VAN-GRINER  9.781646e+12   $45.60  \n",
       "992673  VAN-GRINER  9.781646e+12   $45.60  \n",
       "992674  VAN-GRINER  9.781646e+12   $45.60  \n",
       "\n",
       "[990727 rows x 9 columns]"
      ]
     },
     "execution_count": 11,
     "metadata": {},
     "output_type": "execute_result"
    }
   ],
   "source": [
    "df2"
   ]
  }
 ],
 "metadata": {
  "kernelspec": {
   "display_name": "Python 3 (ipykernel)",
   "language": "python",
   "name": "python3"
  },
  "language_info": {
   "codemirror_mode": {
    "name": "ipython",
    "version": 3
   },
   "file_extension": ".py",
   "mimetype": "text/x-python",
   "name": "python",
   "nbconvert_exporter": "python",
   "pygments_lexer": "ipython3",
   "version": "3.8.10"
  }
 },
 "nbformat": 4,
 "nbformat_minor": 1
}
