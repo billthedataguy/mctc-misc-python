{
 "cells": [
  {
   "cell_type": "code",
   "execution_count": 1,
   "metadata": {
    "pycharm": {
     "is_executing": true
    }
   },
   "outputs": [],
   "source": [
    "import pandas as pd\n",
    "import requests\n",
    "import urllib\n",
    "import time"
   ]
  },
  {
   "cell_type": "code",
   "execution_count": 2,
   "metadata": {},
   "outputs": [],
   "source": [
    "df_B = pd.read_csv(\"C:\\\\Users\\\\ej2595ht\\\\Desktop\\\\COLLECTIONS_2022\\\\Bill_B_2022_FINAL.txt\", delimiter=\"\\t\")\n",
    "B = df_B[\"Title\"].dropna(axis=0).tolist()\n",
    "B_sort = sorted(B)"
   ]
  },
  {
   "cell_type": "code",
   "execution_count": 3,
   "metadata": {},
   "outputs": [],
   "source": [
    "df_L = pd.read_csv(\"C:\\\\Users\\\\ej2595ht\\\\Desktop\\\\COLLECTIONS_2022\\\\Bill_L_2022_FINAL.txt\", delimiter=\"\\t\")\n",
    "L = df_L[\"Title\"].dropna(axis=0).tolist()\n",
    "L_sort = sorted(L)"
   ]
  },
  {
   "cell_type": "code",
   "execution_count": 4,
   "metadata": {},
   "outputs": [],
   "source": [
    "df_Q_S_T = pd.read_csv(\"C:\\\\Users\\\\ej2595ht\\\\Desktop\\\\COLLECTIONS_2022\\\\Bill_Q_S_T_2022_FINAL.txt\", delimiter=\"\\t\")\n",
    "Q_S_T = df_Q_S_T[\"Title\"].dropna(axis=0).tolist()\n",
    "Q_S_T_sort = sorted(Q_S_T)"
   ]
  },
  {
   "cell_type": "code",
   "execution_count": 5,
   "metadata": {},
   "outputs": [],
   "source": [
    "df_Z = pd.read_csv(\"C:\\\\Users\\\\ej2595ht\\\\Desktop\\\\COLLECTIONS_2022\\\\Bill_Z_2022_FINAL.txt\", delimiter=\"\\t\")\n",
    "Z = list(zip(df_Z[\"Title\"].dropna(axis=0).tolist(), df_Z[\"Author\"].dropna(axis=0).tolist()))\n",
    "\n",
    "Z_sort = sorted(Z)\n",
    "\n",
    "# for tup in Z_sort:\n",
    "#     title, author = tup    \n",
    "   \n",
    "#     main_title = title.split(\":\", 1)[0].replace(\".\", \"\").strip()\n",
    "#     author_lastname = author.split(\",\", 1)[0].strip()\n",
    "#     print(main_title)\n",
    "#     print(author_lastname)\n",
    "#     new_tup = (main_title, author_lastname)\n",
    "#     print(new_tup)\n",
    "#     print(\"\\n\\n\")\n",
    "    \n",
    "    \n",
    "    "
   ]
  },
  {
   "cell_type": "code",
   "execution_count": 6,
   "metadata": {},
   "outputs": [],
   "source": [
    "#############################################################################################\n",
    "payload = {\n",
    "    \"blendFacetsSeparately\" : False,\n",
    "    \"disableCache\" : False,\n",
    "    \"getMore\" : 0,\n",
    "    \"inst\" : \"01MNPALS_MCT\",\n",
    "    \"lang\" : \"en\",\n",
    "    \"limit\" : 10,\n",
    "    \"mode\" : \"advanced\",\n",
    "    \"newspapersActive\" : False,\n",
    "    \"newspapersSearch\" : False,\n",
    "    \"offset\" : 0,\n",
    "    \"pcAvailability\" : False,\n",
    "    \"rapido\" : False,\n",
    "    \"refEntryActive\" : False,\n",
    "    \"rtaLinks\" : True,\n",
    "    \"scope\" : \"MyInst_and_CI\",\n",
    "    \"skipDelivery\" : \"Y\",\n",
    "    \"sort\" : \"title\",\n",
    "    \"tab\" : \"Everything\",\n",
    "    \"vid\" : \"01MNPALS_MCT:MCT\",\n",
    "}\n",
    "\n",
    "url = r\"https://mnpals-mct.primo.exlibrisgroup.com/primaws/rest/pub/pnxs?\"\n",
    "#############################################################################################"
   ]
  },
  {
   "cell_type": "code",
   "execution_count": 7,
   "metadata": {},
   "outputs": [],
   "source": [
    "# for title in B_sort:\n",
    "#     cleaned_title = title.split(\";\", 1)[0].replace(\".\", \"\")\n",
    "#     if len(cleaned_title) > 50:\n",
    "#         cleaned_title = cleaned_title.split(\":\", 1)[0]\n",
    "#     print(cleaned_title)\n"
   ]
  },
  {
   "cell_type": "code",
   "execution_count": 8,
   "metadata": {},
   "outputs": [],
   "source": [
    "# https://mnpals-mct.primo.exlibrisgroup.com/discovery/search\n",
    "\n",
    "# ?query=title,contains,<title>,AND\n",
    "# &query=creator,contains,<author>,AND\n",
    "# &pfilter=rtype,exact,books,AND\n",
    "# &tab=Everything&search_scope=MyInst_and_CI\n",
    "# &sortby=rank&vid=01MNPALS_MCT:MCT&mode=advanced&offset=0"
   ]
  },
  {
   "cell_type": "code",
   "execution_count": 13,
   "metadata": {},
   "outputs": [],
   "source": [
    "\n",
    "\n",
    "\n",
    "\n",
    "def search_primo(main_title, author_lastname):      \n",
    "            \n",
    "\n",
    "    encoded_title = f'{urllib.parse.quote(main_title)}'\n",
    "\n",
    "    query = f\"query=title,contains,{encoded_title},AND&query=creator,contains,{author_lastname},AND&pfilter=rtype,exact,books,AND\"\n",
    "\n",
    "    r = requests.get(f\"{url}{query}\", params=payload)\n",
    "\n",
    "    primo_url1 = r'https://mnpals-mct.primo.exlibrisgroup.com/discovery/search?'\n",
    "\n",
    "    primo_url2 = f\"{query}&tab=Everything&search_scope=MyInst_and_CI&sortby=title&vid=01MNPALS_MCT:MCT&mode=advanced&offset=0\"\n",
    "\n",
    "    print(f'<a href=\"{primo_url1}{primo_url2}\">link</a>\\n\\n<p></p>')\n",
    "\n",
    "\n",
    "    print(f'{r.json()[\"info\"][\"total\"]} rec(s) found.\\n\\n<p></p>')\n",
    "    \n",
    "    time.sleep(3)\n",
    "            "
   ]
  },
  {
   "cell_type": "code",
   "execution_count": 14,
   "metadata": {},
   "outputs": [
    {
     "name": "stdout",
     "output_type": "stream",
     "text": [
      "COPYRIGHT POLICIES AND WORKFLOWS IN LIBRARIES\n",
      "SNOW\n",
      "<a href=\"https://mnpals-mct.primo.exlibrisgroup.com/discovery/search?query=title,contains,COPYRIGHT%20POLICIES%20AND%20WORKFLOWS%20IN%20LIBRARIES,AND&query=creator,contains,SNOW,AND&pfilter=rtype,exact,books,AND&tab=Everything&search_scope=MyInst_and_CI&sortby=title&vid=01MNPALS_MCT:MCT&mode=advanced&offset=0\">link</a>\n",
      "\n",
      "<p></p>\n"
     ]
    },
    {
     "ename": "JSONDecodeError",
     "evalue": "Expecting value: line 1 column 1 (char 0)",
     "output_type": "error",
     "traceback": [
      "\u001B[1;31m---------------------------------------------------------------------------\u001B[0m",
      "\u001B[1;31mJSONDecodeError\u001B[0m                           Traceback (most recent call last)",
      "File \u001B[1;32m~\\PycharmProjects\\readCSV\\venv\\lib\\site-packages\\requests\\models.py:971\u001B[0m, in \u001B[0;36mResponse.json\u001B[1;34m(self, **kwargs)\u001B[0m\n\u001B[0;32m    970\u001B[0m \u001B[38;5;28;01mtry\u001B[39;00m:\n\u001B[1;32m--> 971\u001B[0m     \u001B[38;5;28;01mreturn\u001B[39;00m \u001B[43mcomplexjson\u001B[49m\u001B[38;5;241;43m.\u001B[39;49m\u001B[43mloads\u001B[49m\u001B[43m(\u001B[49m\u001B[38;5;28;43mself\u001B[39;49m\u001B[38;5;241;43m.\u001B[39;49m\u001B[43mtext\u001B[49m\u001B[43m,\u001B[49m\u001B[43m \u001B[49m\u001B[38;5;241;43m*\u001B[39;49m\u001B[38;5;241;43m*\u001B[39;49m\u001B[43mkwargs\u001B[49m\u001B[43m)\u001B[49m\n\u001B[0;32m    972\u001B[0m \u001B[38;5;28;01mexcept\u001B[39;00m JSONDecodeError \u001B[38;5;28;01mas\u001B[39;00m e:\n\u001B[0;32m    973\u001B[0m     \u001B[38;5;66;03m# Catch JSON-related errors and raise as requests.JSONDecodeError\u001B[39;00m\n\u001B[0;32m    974\u001B[0m     \u001B[38;5;66;03m# This aliases json.JSONDecodeError and simplejson.JSONDecodeError\u001B[39;00m\n",
      "File \u001B[1;32mC:\\Program Files\\WindowsApps\\PythonSoftwareFoundation.Python.3.8_3.8.2800.0_x64__qbz5n2kfra8p0\\lib\\json\\__init__.py:357\u001B[0m, in \u001B[0;36mloads\u001B[1;34m(s, cls, object_hook, parse_float, parse_int, parse_constant, object_pairs_hook, **kw)\u001B[0m\n\u001B[0;32m    354\u001B[0m \u001B[38;5;28;01mif\u001B[39;00m (\u001B[38;5;28mcls\u001B[39m \u001B[38;5;129;01mis\u001B[39;00m \u001B[38;5;28;01mNone\u001B[39;00m \u001B[38;5;129;01mand\u001B[39;00m object_hook \u001B[38;5;129;01mis\u001B[39;00m \u001B[38;5;28;01mNone\u001B[39;00m \u001B[38;5;129;01mand\u001B[39;00m\n\u001B[0;32m    355\u001B[0m         parse_int \u001B[38;5;129;01mis\u001B[39;00m \u001B[38;5;28;01mNone\u001B[39;00m \u001B[38;5;129;01mand\u001B[39;00m parse_float \u001B[38;5;129;01mis\u001B[39;00m \u001B[38;5;28;01mNone\u001B[39;00m \u001B[38;5;129;01mand\u001B[39;00m\n\u001B[0;32m    356\u001B[0m         parse_constant \u001B[38;5;129;01mis\u001B[39;00m \u001B[38;5;28;01mNone\u001B[39;00m \u001B[38;5;129;01mand\u001B[39;00m object_pairs_hook \u001B[38;5;129;01mis\u001B[39;00m \u001B[38;5;28;01mNone\u001B[39;00m \u001B[38;5;129;01mand\u001B[39;00m \u001B[38;5;129;01mnot\u001B[39;00m kw):\n\u001B[1;32m--> 357\u001B[0m     \u001B[38;5;28;01mreturn\u001B[39;00m \u001B[43m_default_decoder\u001B[49m\u001B[38;5;241;43m.\u001B[39;49m\u001B[43mdecode\u001B[49m\u001B[43m(\u001B[49m\u001B[43ms\u001B[49m\u001B[43m)\u001B[49m\n\u001B[0;32m    358\u001B[0m \u001B[38;5;28;01mif\u001B[39;00m \u001B[38;5;28mcls\u001B[39m \u001B[38;5;129;01mis\u001B[39;00m \u001B[38;5;28;01mNone\u001B[39;00m:\n",
      "File \u001B[1;32mC:\\Program Files\\WindowsApps\\PythonSoftwareFoundation.Python.3.8_3.8.2800.0_x64__qbz5n2kfra8p0\\lib\\json\\decoder.py:337\u001B[0m, in \u001B[0;36mJSONDecoder.decode\u001B[1;34m(self, s, _w)\u001B[0m\n\u001B[0;32m    333\u001B[0m \u001B[38;5;124;03m\"\"\"Return the Python representation of ``s`` (a ``str`` instance\u001B[39;00m\n\u001B[0;32m    334\u001B[0m \u001B[38;5;124;03mcontaining a JSON document).\u001B[39;00m\n\u001B[0;32m    335\u001B[0m \n\u001B[0;32m    336\u001B[0m \u001B[38;5;124;03m\"\"\"\u001B[39;00m\n\u001B[1;32m--> 337\u001B[0m obj, end \u001B[38;5;241m=\u001B[39m \u001B[38;5;28;43mself\u001B[39;49m\u001B[38;5;241;43m.\u001B[39;49m\u001B[43mraw_decode\u001B[49m\u001B[43m(\u001B[49m\u001B[43ms\u001B[49m\u001B[43m,\u001B[49m\u001B[43m \u001B[49m\u001B[43midx\u001B[49m\u001B[38;5;241;43m=\u001B[39;49m\u001B[43m_w\u001B[49m\u001B[43m(\u001B[49m\u001B[43ms\u001B[49m\u001B[43m,\u001B[49m\u001B[43m \u001B[49m\u001B[38;5;241;43m0\u001B[39;49m\u001B[43m)\u001B[49m\u001B[38;5;241;43m.\u001B[39;49m\u001B[43mend\u001B[49m\u001B[43m(\u001B[49m\u001B[43m)\u001B[49m\u001B[43m)\u001B[49m\n\u001B[0;32m    338\u001B[0m end \u001B[38;5;241m=\u001B[39m _w(s, end)\u001B[38;5;241m.\u001B[39mend()\n",
      "File \u001B[1;32mC:\\Program Files\\WindowsApps\\PythonSoftwareFoundation.Python.3.8_3.8.2800.0_x64__qbz5n2kfra8p0\\lib\\json\\decoder.py:355\u001B[0m, in \u001B[0;36mJSONDecoder.raw_decode\u001B[1;34m(self, s, idx)\u001B[0m\n\u001B[0;32m    354\u001B[0m \u001B[38;5;28;01mexcept\u001B[39;00m \u001B[38;5;167;01mStopIteration\u001B[39;00m \u001B[38;5;28;01mas\u001B[39;00m err:\n\u001B[1;32m--> 355\u001B[0m     \u001B[38;5;28;01mraise\u001B[39;00m JSONDecodeError(\u001B[38;5;124m\"\u001B[39m\u001B[38;5;124mExpecting value\u001B[39m\u001B[38;5;124m\"\u001B[39m, s, err\u001B[38;5;241m.\u001B[39mvalue) \u001B[38;5;28;01mfrom\u001B[39;00m \u001B[38;5;28mNone\u001B[39m\n\u001B[0;32m    356\u001B[0m \u001B[38;5;28;01mreturn\u001B[39;00m obj, end\n",
      "\u001B[1;31mJSONDecodeError\u001B[0m: Expecting value: line 1 column 1 (char 0)",
      "\nDuring handling of the above exception, another exception occurred:\n",
      "\u001B[1;31mJSONDecodeError\u001B[0m                           Traceback (most recent call last)",
      "Cell \u001B[1;32mIn [14], line 9\u001B[0m\n\u001B[0;32m      7\u001B[0m \u001B[38;5;28mprint\u001B[39m(author_lastname)\n\u001B[0;32m      8\u001B[0m new_tup \u001B[38;5;241m=\u001B[39m (main_title, author_lastname)\n\u001B[1;32m----> 9\u001B[0m search_primo(main_title, author_lastname)\n",
      "Cell \u001B[1;32mIn [13], line 17\u001B[0m, in \u001B[0;36msearch_primo\u001B[1;34m(main_title, author_lastname)\u001B[0m\n\u001B[0;32m     12\u001B[0m primo_url2 \u001B[38;5;241m=\u001B[39m \u001B[38;5;124mf\u001B[39m\u001B[38;5;124m\"\u001B[39m\u001B[38;5;132;01m{\u001B[39;00mquery\u001B[38;5;132;01m}\u001B[39;00m\u001B[38;5;124m&tab=Everything&search_scope=MyInst_and_CI&sortby=title&vid=01MNPALS_MCT:MCT&mode=advanced&offset=0\u001B[39m\u001B[38;5;124m\"\u001B[39m\n\u001B[0;32m     14\u001B[0m \u001B[38;5;28mprint\u001B[39m(\u001B[38;5;124mf\u001B[39m\u001B[38;5;124m'\u001B[39m\u001B[38;5;124m<a href=\u001B[39m\u001B[38;5;124m\"\u001B[39m\u001B[38;5;132;01m{\u001B[39;00mprimo_url1\u001B[38;5;132;01m}\u001B[39;00m\u001B[38;5;132;01m{\u001B[39;00mprimo_url2\u001B[38;5;132;01m}\u001B[39;00m\u001B[38;5;124m\"\u001B[39m\u001B[38;5;124m>link</a>\u001B[39m\u001B[38;5;130;01m\\n\u001B[39;00m\u001B[38;5;130;01m\\n\u001B[39;00m\u001B[38;5;124m<p></p>\u001B[39m\u001B[38;5;124m'\u001B[39m)\n\u001B[1;32m---> 17\u001B[0m \u001B[38;5;28mprint\u001B[39m(\u001B[38;5;124mf\u001B[39m\u001B[38;5;124m'\u001B[39m\u001B[38;5;132;01m{\u001B[39;00mr\u001B[38;5;241m.\u001B[39mjson()[\u001B[38;5;124m\"\u001B[39m\u001B[38;5;124minfo\u001B[39m\u001B[38;5;124m\"\u001B[39m][\u001B[38;5;124m\"\u001B[39m\u001B[38;5;124mtotal\u001B[39m\u001B[38;5;124m\"\u001B[39m]\u001B[38;5;132;01m}\u001B[39;00m\u001B[38;5;124m rec(s) found.\u001B[39m\u001B[38;5;130;01m\\n\u001B[39;00m\u001B[38;5;130;01m\\n\u001B[39;00m\u001B[38;5;124m<p></p>\u001B[39m\u001B[38;5;124m'\u001B[39m)\n\u001B[0;32m     19\u001B[0m time\u001B[38;5;241m.\u001B[39msleep(\u001B[38;5;241m3\u001B[39m)\n",
      "File \u001B[1;32m~\\PycharmProjects\\readCSV\\venv\\lib\\site-packages\\requests\\models.py:975\u001B[0m, in \u001B[0;36mResponse.json\u001B[1;34m(self, **kwargs)\u001B[0m\n\u001B[0;32m    971\u001B[0m     \u001B[38;5;28;01mreturn\u001B[39;00m complexjson\u001B[38;5;241m.\u001B[39mloads(\u001B[38;5;28mself\u001B[39m\u001B[38;5;241m.\u001B[39mtext, \u001B[38;5;241m*\u001B[39m\u001B[38;5;241m*\u001B[39mkwargs)\n\u001B[0;32m    972\u001B[0m \u001B[38;5;28;01mexcept\u001B[39;00m JSONDecodeError \u001B[38;5;28;01mas\u001B[39;00m e:\n\u001B[0;32m    973\u001B[0m     \u001B[38;5;66;03m# Catch JSON-related errors and raise as requests.JSONDecodeError\u001B[39;00m\n\u001B[0;32m    974\u001B[0m     \u001B[38;5;66;03m# This aliases json.JSONDecodeError and simplejson.JSONDecodeError\u001B[39;00m\n\u001B[1;32m--> 975\u001B[0m     \u001B[38;5;28;01mraise\u001B[39;00m RequestsJSONDecodeError(e\u001B[38;5;241m.\u001B[39mmsg, e\u001B[38;5;241m.\u001B[39mdoc, e\u001B[38;5;241m.\u001B[39mpos)\n",
      "\u001B[1;31mJSONDecodeError\u001B[0m: Expecting value: line 1 column 1 (char 0)"
     ]
    }
   ],
   "source": [
    "for tup in Z_sort:\n",
    "    title, author = tup    \n",
    "   \n",
    "    main_title = title.split(\":\", 1)[0].replace(\".\", \"\").strip()\n",
    "    author_lastname = author.split(\",\", 1)[0].strip()\n",
    "    print(main_title)\n",
    "    print(author_lastname)\n",
    "    new_tup = (main_title, author_lastname)\n",
    "    search_primo(main_title, author_lastname)"
   ]
  },
  {
   "cell_type": "code",
   "execution_count": null,
   "metadata": {},
   "outputs": [],
   "source": []
  }
 ],
 "metadata": {
  "kernelspec": {
   "display_name": "Python 3 (ipykernel)",
   "language": "python",
   "name": "python3"
  },
  "language_info": {
   "codemirror_mode": {
    "name": "ipython",
    "version": 3
   },
   "file_extension": ".py",
   "mimetype": "text/x-python",
   "name": "python",
   "nbconvert_exporter": "python",
   "pygments_lexer": "ipython3",
   "version": "3.8.10"
  }
 },
 "nbformat": 4,
 "nbformat_minor": 1
}
